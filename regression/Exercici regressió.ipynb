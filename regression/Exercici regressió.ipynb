{
 "cells": [
  {
   "cell_type": "markdown",
   "id": "fca6c924",
   "metadata": {},
   "source": [
    "# Exercici Regressió\n",
    "\n",
    "Farem una regressió multiple sobre un problema real. Emprarem el *California Housing* dataset.\n",
    "\n",
    "<img src=\"california.png\"  width=\"500\"/>\n",
    "\n",
    ">This dataset was obtained from the StatLib repository. https://www.dcc.fc.up.pt/~ltorgo/Regression/cal_housing.html\n",
    ">\n",
    "> **The target variable is the median house value for California districts, expressed in hundreds of thousands of dollars (100,000).**\n",
    ">\n",
    ">This dataset was derived from the 1990 U.S. census, using one row per census block group. A block group is the smallest geographical unit for which the U.S. Census Bureau publishes sample data (a block group typically has a population of 600 to 3,000 people).\n",
    ">\n",
    ">An household is a group of people residing within a home. Since the average number of rooms and bedrooms in this dataset are provided per household, these columns may take surpinsingly large values for block groups with few households and many empty houses, such as vacation resorts.\n",
    ">\n",
    ">It can be downloaded/loaded using the sklearn.datasets.fetch_california_housing function.\n",
    "\n",
    "Importam les llibreries que utilitzarem."
   ]
  },
  {
   "cell_type": "code",
   "execution_count": null,
   "id": "2c2caea4",
   "metadata": {},
   "outputs": [],
   "source": [
    "from sklearn.datasets import fetch_california_housing\n",
    "import pandas as pd"
   ]
  },
  {
   "cell_type": "markdown",
   "id": "fd581bd9",
   "metadata": {},
   "source": [
    "Carregam les dades i realitzam una primera exploració inicial."
   ]
  },
  {
   "cell_type": "code",
   "execution_count": null,
   "id": "671cb379",
   "metadata": {},
   "outputs": [],
   "source": [
    "housing = fetch_california_housing(as_frame=True)\n",
    "\n",
    "print(housing.keys())\n",
    "df = housing.frame\n",
    "\n",
    "df.head()"
   ]
  },
  {
   "cell_type": "markdown",
   "id": "74ec9013",
   "metadata": {},
   "source": [
    "Podem observar com es distribuixen les dades. ``Pandas`` té una funció que ens retorna informació estadística per cada una de les característiques."
   ]
  },
  {
   "cell_type": "code",
   "execution_count": null,
   "id": "8e639e6b",
   "metadata": {},
   "outputs": [],
   "source": [
    "df.describe()"
   ]
  },
  {
   "cell_type": "markdown",
   "id": "3ae0a5f0",
   "metadata": {},
   "source": [
    "# Treball vostre\n",
    "\n",
    "Fer un model de regressió lineal per prediure el valor de les cases a un barri (la darrera columna). "
   ]
  }
 ],
 "metadata": {
  "kernelspec": {
   "display_name": "Python 3 (ipykernel)",
   "language": "python",
   "name": "python3"
  },
  "language_info": {
   "codemirror_mode": {
    "name": "ipython",
    "version": 3
   },
   "file_extension": ".py",
   "mimetype": "text/x-python",
   "name": "python",
   "nbconvert_exporter": "python",
   "pygments_lexer": "ipython3",
   "version": "3.10.4"
  }
 },
 "nbformat": 4,
 "nbformat_minor": 5
}
