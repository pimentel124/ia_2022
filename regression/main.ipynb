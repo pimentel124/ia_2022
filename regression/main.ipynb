{
 "cells": [
  {
   "cell_type": "markdown",
   "id": "3e0f5407",
   "metadata": {},
   "source": [
    "# Sessió 10: Regressió Lineal\n",
    "\n",
    "L'objectiu, i diferència respecte el perceptró, d'aquest model és dur a terme un *regression analysis*, és a dir, enlloc de classificar les dades entre dues o més classes predim un valor continu. Els models de regressió s'empren per prediure variables objectius a una escala contínua.\n",
    "\n",
    "El model **regressió lineal** és el model més simple per fer regressió. Hi ha dos tipus de regressió linal: la simple i la multiple. La regressió lineal simple només accepta una variable independent.\n",
    "\n",
    "$$\\hat{y}=w_{0} + w_{1}x_1$$\n",
    "\n",
    "On $w_{0}$ és el biax o intercept i $w_1$ és el coefficient de la variable independent.\n",
    "\n",
    "Gràficament aquest model és pot visualitzar de la següent manera:\n",
    "\n",
    "![proces](regression.png)\n",
    "\n",
    "Per models de regressió lineal multiple la equació prèvia es modifica de la següent manera:\n",
    "\n",
    "$$\\hat{y}=w_{0} + w_{1}x_1 + w_{2}x_2 + ... + w_{n}x_n$$\n",
    "\n",
    "Aquestes assumpcions són conegudes com les Gauss-Markov.\n",
    "\n",
    "## Aprenentatge automàtic\n",
    "\n",
    "Hem de seguir el mateix procès que varem veure la setmana passada:\n",
    "\n",
    "1. Tractament de les dades.\n",
    "2. Entrenament.\n",
    "3. Anàlisis dels resultats.\n",
    "\n",
    "Per fer-ho el primer que hem de fer es importar les llibreries. "
   ]
  },
  {
   "cell_type": "code",
   "execution_count": null,
   "id": "deeb1e68",
   "metadata": {},
   "outputs": [],
   "source": [
    "import matplotlib.pyplot as plt\n",
    "from sklearn.linear_model import LinearRegression\n",
    "from sklearn.datasets import make_regression\n",
    "from sklearn.model_selection import train_test_split\n",
    "from sklearn.metrics import mean_absolute_error, mean_squared_error\n",
    "import numpy as np"
   ]
  },
  {
   "cell_type": "markdown",
   "id": "4e2924a6",
   "metadata": {},
   "source": [
    "Posteriorment crearem unes dades amb les que fer feina."
   ]
  },
  {
   "cell_type": "code",
   "execution_count": null,
   "id": "a4528a22",
   "metadata": {},
   "outputs": [],
   "source": [
    "X, y = make_regression(n_samples=400, n_features=1, n_informative=1, noise=50.0, random_state=42)"
   ]
  },
  {
   "cell_type": "markdown",
   "id": "99b5516f",
   "metadata": {},
   "source": [
    "Una vegada tenim les dades miram com són les dades."
   ]
  },
  {
   "cell_type": "code",
   "execution_count": null,
   "id": "201ecc1a",
   "metadata": {},
   "outputs": [],
   "source": [
    "plt.scatter(X, y, color=\"blue\") # dibujamos la nube de puntos\n",
    "plt.xlabel('Variable independent X')\n",
    "plt.ylabel('Variable dependent Y')\n",
    "plt.show()"
   ]
  },
  {
   "cell_type": "markdown",
   "id": "33cbb679",
   "metadata": {},
   "source": [
    "Crearem un model de regressió lineal per poder fer una predicció sobre les dades. És molt important el paràmetre de ``fit_intercept``. "
   ]
  },
  {
   "cell_type": "code",
   "execution_count": null,
   "id": "bee626ba",
   "metadata": {},
   "outputs": [],
   "source": [
    "regr = LinearRegression(fit_intercept=True)"
   ]
  },
  {
   "cell_type": "markdown",
   "id": "328e7148",
   "metadata": {},
   "source": [
    "Una vegada creat l'objecte l'entrenam amb les dades que hem generat. Primer però hem de separar les dades en train i test."
   ]
  },
  {
   "cell_type": "code",
   "execution_count": null,
   "id": "4243883c",
   "metadata": {},
   "outputs": [],
   "source": [
    "X_train, X_test, y_train, y_test = train_test_split(X, y, test_size=0.33, random_state=42)"
   ]
  },
  {
   "cell_type": "markdown",
   "id": "20cb1c35",
   "metadata": {},
   "source": [
    "Ara sí que podem entrenar el model amb les dades d'entrenament. "
   ]
  },
  {
   "cell_type": "code",
   "execution_count": null,
   "id": "b4271ec3",
   "metadata": {},
   "outputs": [],
   "source": [
    "regr.fit(X_train, y_train);"
   ]
  },
  {
   "cell_type": "markdown",
   "id": "2fd43ef7",
   "metadata": {},
   "source": [
    "El resultat de l'entrenament és que ara el model té un biaix i un pes per cada *feature*."
   ]
  },
  {
   "cell_type": "code",
   "execution_count": null,
   "id": "e80b2a14",
   "metadata": {},
   "outputs": [],
   "source": [
    "regr.intercept_"
   ]
  },
  {
   "cell_type": "code",
   "execution_count": null,
   "id": "d3f8feb2",
   "metadata": {},
   "outputs": [],
   "source": [
    "regr.coef_"
   ]
  },
  {
   "cell_type": "markdown",
   "id": "67a2a78a",
   "metadata": {},
   "source": [
    "### Estimam el valors\n",
    "\n",
    "Una vegada tenim el model entrenat podem fer prediccions. Aquestes prediccions són amb la formula ja coneguda de la regressió lineal. Per desmotrar-ho mostrarem el valor de fer la predicció i de fer les operacions de dos punts."
   ]
  },
  {
   "cell_type": "code",
   "execution_count": null,
   "id": "4498a69e",
   "metadata": {},
   "outputs": [],
   "source": [
    "punts_simples = np.array([1,2]).reshape((-1,1))\n",
    "print((regr.predict(punts_simples), [regr.coef_ * 1 + regr.intercept_, regr.coef_ * 2 + regr.intercept_]))"
   ]
  },
  {
   "cell_type": "markdown",
   "id": "fe45259f",
   "metadata": {},
   "source": [
    "Anem a mostrar la preddició del test."
   ]
  },
  {
   "cell_type": "code",
   "execution_count": null,
   "id": "221c9d54",
   "metadata": {},
   "outputs": [],
   "source": [
    "y_pred = regr.predict(X_test)"
   ]
  },
  {
   "cell_type": "code",
   "execution_count": null,
   "id": "cabcabad",
   "metadata": {},
   "outputs": [],
   "source": [
    "plt.scatter(X_test, y_pred, color=\"black\")\n",
    "plt.title(\"Resultat de la regresió\")\n",
    "plt.show()"
   ]
  },
  {
   "cell_type": "markdown",
   "id": "b2ae310a",
   "metadata": {},
   "source": [
    "Comparam les dades original amb el model estimat."
   ]
  },
  {
   "cell_type": "code",
   "execution_count": null,
   "id": "33c3de2e",
   "metadata": {},
   "outputs": [],
   "source": [
    "punts = [regr.coef_ * -2.5 + regr.intercept_, regr.coef_ * 2.5 + regr.intercept_]"
   ]
  },
  {
   "cell_type": "code",
   "execution_count": null,
   "id": "304e8fdb",
   "metadata": {},
   "outputs": [],
   "source": [
    "plt.scatter(X, y, c=\"black\")\n",
    "plt.plot([-2.5,2.5], punts, c=\"blue\");"
   ]
  },
  {
   "cell_type": "markdown",
   "id": "3a2b38bd",
   "metadata": {},
   "source": [
    "### Obtenim mètriques\n",
    "\n",
    "Els problemes de regressió també tenen mètriques que ens indiquen la bondat de les nostres prediccions. Nosaltres emprarem dues mètriques diferents: $MSE$ i $MAE$.\n",
    "\n",
    "$MAE(eX, Y) = \\frac{\\sum_{i=0}^{n} |eX_i - Y_i|}{n}$\n",
    "\n",
    "\n",
    "$MSE(X_{e}, Y) = \\frac{\\sum_{i=0}^{n} \\sqrt{X_{e_i} - Y_i)^2}}{n}$.\n",
    "\n",
    "Les dues mesures:"
   ]
  },
  {
   "cell_type": "code",
   "execution_count": null,
   "id": "32aad26c",
   "metadata": {},
   "outputs": [],
   "source": [
    "mean_absolute_error(y_test, y_pred)"
   ]
  },
  {
   "cell_type": "code",
   "execution_count": null,
   "id": "ae86e718",
   "metadata": {},
   "outputs": [],
   "source": [
    "mean_squared_error(y_test, y_pred)"
   ]
  }
 ],
 "metadata": {
  "kernelspec": {
   "display_name": "Python 3 (ipykernel)",
   "language": "python",
   "name": "python3"
  },
  "language_info": {
   "codemirror_mode": {
    "name": "ipython",
    "version": 3
   },
   "file_extension": ".py",
   "mimetype": "text/x-python",
   "name": "python",
   "nbconvert_exporter": "python",
   "pygments_lexer": "ipython3",
   "version": "3.10.4"
  }
 },
 "nbformat": 4,
 "nbformat_minor": 5
}
