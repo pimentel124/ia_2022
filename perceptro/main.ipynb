{
 "cells": [
  {
   "cell_type": "code",
   "execution_count": null,
   "id": "ea92533e",
   "metadata": {},
   "outputs": [],
   "source": [
    "import numpy as np\n",
    "from sklearn import linear_model\n",
    "from sklearn.model_selection import train_test_split\n",
    "\n",
    "from matplotlib import pyplot as plt"
   ]
  },
  {
   "cell_type": "code",
   "execution_count": null,
   "id": "170e4a32",
   "metadata": {},
   "outputs": [],
   "source": [
    "data = np.random.rand(2500,2)\n",
    "\n",
    "data = data[((data[:, 0] > 0.6) | (data[:, 0] < 0.4)), :] \n",
    "data = data[((data[:, 1] > 0.6) | (data[:, 1] < 0.4)), :] \n",
    "\n",
    "label = (data[:, 0] > 0.5) & (data[:, 1] > 0.5).astype(np.uint8)"
   ]
  },
  {
   "cell_type": "markdown",
   "id": "30304a05",
   "metadata": {},
   "source": [
    "# Primera pràctica: perceptró.\n",
    "## 14-XI-2022\n",
    "\n",
    "Aquesta primera pràctica veurem com es dur a terme un entrenament d'aprenentatge automàtic. Hem de dur a terme el procés que heu vist a teoria:\n",
    "\n",
    "![proces](proces.png)"
   ]
  },
  {
   "cell_type": "markdown",
   "id": "4843d9a5",
   "metadata": {},
   "source": [
    "# Dataset \n",
    "\n",
    "El primer que hem de fer es saber com són les dades. Ja que són **dades 2D**. Per visualizar-ho empram la llibreria *matplotlib*."
   ]
  },
  {
   "cell_type": "code",
   "execution_count": null,
   "id": "ff72f718",
   "metadata": {},
   "outputs": [],
   "source": [
    "plt.scatter(data[:, 0], data[:, 1]);"
   ]
  },
  {
   "cell_type": "markdown",
   "id": "a51f9b8b",
   "metadata": {},
   "source": [
    "Es interessant saber com es localitza l'etiqueta. Per fer-ho mostram cada punt a quina classe correspon."
   ]
  },
  {
   "cell_type": "code",
   "execution_count": null,
   "id": "18464625",
   "metadata": {},
   "outputs": [],
   "source": [
    "plt.scatter(data[:, 0], data[:, 1], c=label);"
   ]
  },
  {
   "cell_type": "markdown",
   "id": "ce723df0",
   "metadata": {},
   "source": [
    "Em de dividir les dades entre train i test. Per fer-ho emprarem les eines que tenim amb la lliberia *scikit-learn*. Em de definir:\n",
    "* La mida del test.\n",
    "* Un random state. Ens permet que sempre es divideix igual."
   ]
  },
  {
   "cell_type": "code",
   "execution_count": null,
   "id": "f59b6373",
   "metadata": {},
   "outputs": [],
   "source": [
    "X_train, X_test, y_train, y_test = train_test_split(data, label, test_size=0.33, random_state=42)"
   ]
  },
  {
   "cell_type": "markdown",
   "id": "2db2ecba",
   "metadata": {},
   "source": [
    "# Entrenament \n",
    "\n",
    "Entrenam un classificador, en particular un **Perceptró**. Un classificador és un model que ens permet fer prediccions binàries. Per entrenar-ho em de tenir en compte dues coses:\n",
    "* Cada model té parametres que determinen com actuen.\n",
    "* **Només em d'entrenar amb les dades d'entrenament**. "
   ]
  },
  {
   "cell_type": "code",
   "execution_count": null,
   "id": "4d7700b5",
   "metadata": {},
   "outputs": [],
   "source": [
    "clf = linear_model.Perceptron(tol=1e-3, random_state=0)\n",
    "clf.fit(X_train, y_train);"
   ]
  },
  {
   "cell_type": "markdown",
   "id": "884a8c54",
   "metadata": {},
   "source": [
    "El perceptró apren una divisió lineal. Podem mostrar aquesta divisió."
   ]
  },
  {
   "cell_type": "code",
   "execution_count": null,
   "id": "13dcf308",
   "metadata": {},
   "outputs": [],
   "source": [
    "x_intercept = (0, -clf.intercept_ / clf.coef_[0][1])\n",
    "y_intercept = (-clf.intercept_ / clf.coef_[0][0], 0)\n",
    "\n",
    "plt.plot(x_intercept, y_intercept)"
   ]
  },
  {
   "cell_type": "markdown",
   "id": "726a2ace",
   "metadata": {},
   "source": [
    "Evidentment la divisió per ella tota sola no ens permet observar res. A la següent passa li donarem sentit.\n",
    "\n",
    "## Predicció i performance\n",
    "\n",
    "Ho combinam amb la informació que tenim de test per observar si ha fet la divisió correctament. Per fer-ho, primer fem la predicció del conjunt de test."
   ]
  },
  {
   "cell_type": "code",
   "execution_count": null,
   "id": "3d84fc18",
   "metadata": {},
   "outputs": [],
   "source": [
    "pred = clf.predict(X_test)"
   ]
  },
  {
   "cell_type": "markdown",
   "id": "9b31805b",
   "metadata": {},
   "source": [
    "Després pintam les dades, la seva predicció i la divisió."
   ]
  },
  {
   "cell_type": "code",
   "execution_count": null,
   "id": "ba9f7bfe",
   "metadata": {},
   "outputs": [],
   "source": [
    "plt.scatter(X_test[:, 0], X_test[:, 1], c=pred)\n",
    "plt.plot(x_intercept, y_intercept);"
   ]
  },
  {
   "cell_type": "markdown",
   "id": "f3b873dc",
   "metadata": {},
   "source": [
    "Obtenim les mètriques per saber si els resultats són millors o pitjors. Coneixem quatre mesures: *accuracy, recall, precision i F1-Score*. Podem emprar directament una eina que ho resumeix."
   ]
  },
  {
   "cell_type": "code",
   "execution_count": null,
   "id": "c9b91f4a",
   "metadata": {},
   "outputs": [],
   "source": [
    "from sklearn.metrics import classification_report\n",
    "\n",
    "print(classification_report(y_test, pred))"
   ]
  },
  {
   "cell_type": "markdown",
   "id": "4bc0f0bd",
   "metadata": {},
   "source": [
    "# Pràctica\n",
    "\n",
    "## Primeres dades"
   ]
  },
  {
   "cell_type": "code",
   "execution_count": null,
   "id": "a6f43932",
   "metadata": {},
   "outputs": [],
   "source": [
    "data = np.random.rand(2500,2)\n",
    "\n",
    "data = data[((data[:, 0] > 0.6) | (data[:, 0] < 0.4)), :] \n",
    "data = data[((data[:, 1] > 0.6) | (data[:, 1] < 0.4)), :] \n",
    "\n",
    "label = (data[:, 0] > 0.5) | (data[:, 1] > 0.5).astype(np.uint8)\n",
    "plt.scatter(data_rand[:, 0], data_rand[:, 1], c=label);"
   ]
  },
  {
   "cell_type": "markdown",
   "id": "f4125f82",
   "metadata": {},
   "source": [
    "## Segones dades"
   ]
  },
  {
   "cell_type": "code",
   "execution_count": null,
   "id": "e429f45f",
   "metadata": {},
   "outputs": [],
   "source": [
    "label = np.bitwise_xor((data_rand[:, 0] > 0.5), (data_rand[:, 1] > 0.5)).astype(np.uint8)\n",
    "plt.scatter(data_rand[:, 0], data_rand[:, 1], c=label);"
   ]
  }
 ],
 "metadata": {
  "kernelspec": {
   "display_name": "Python 3 (ipykernel)",
   "language": "python",
   "name": "python3"
  },
  "language_info": {
   "codemirror_mode": {
    "name": "ipython",
    "version": 3
   },
   "file_extension": ".py",
   "mimetype": "text/x-python",
   "name": "python",
   "nbconvert_exporter": "python",
   "pygments_lexer": "ipython3",
   "version": "3.10.4"
  }
 },
 "nbformat": 4,
 "nbformat_minor": 5
}
